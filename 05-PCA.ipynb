{
 "cells": [
  {
   "cell_type": "markdown",
   "id": "4aa796a8-fd82-467b-96c0-d76137b71a6b",
   "metadata": {},
   "source": [
    "# Principal component analysis"
   ]
  },
  {
   "cell_type": "markdown",
   "id": "9ff0de13-d615-43f5-b6b7-5812774b8b2d",
   "metadata": {},
   "source": [
    "We will demonstrate principal component analysis on a dataset for [abalone](https://en.wikipedia.org/wiki/Abalone). \n",
    "\n",
    "![Abalone image](https://upload.wikimedia.org/wikipedia/commons/thumb/3/33/LivingAbalone.JPG/320px-LivingAbalone.JPG)\n",
    "\n",
    "The data comes from <https://archive.ics.uci.edu/dataset/1/abalone>."
   ]
  },
  {
   "cell_type": "code",
   "execution_count": 1,
   "id": "c27f6d3a-499d-4b5d-a03a-115714d10f7a",
   "metadata": {},
   "outputs": [],
   "source": [
    "import numpy as np"
   ]
  },
  {
   "cell_type": "markdown",
   "id": "0a2180c2-89b1-4d44-a923-108f64e9e1f4",
   "metadata": {},
   "source": [
    "We first fetch the datset and inspect it:"
   ]
  },
  {
   "cell_type": "code",
   "execution_count": 2,
   "id": "7d8d7cb9-86bc-4b42-8542-af767418c7b1",
   "metadata": {},
   "outputs": [],
   "source": [
    "# https://archive.ics.uci.edu/dataset/1/abalone\n",
    "try:\n",
    "    import ucimlrepo\n",
    "except ImportError:\n",
    "    !pip install ucimlrepo\n",
    "\n",
    "from ucimlrepo import fetch_ucirepo \n",
    "abalone = fetch_ucirepo(id=1) "
   ]
  },
  {
   "cell_type": "code",
   "execution_count": 3,
   "id": "40059441-a40f-4586-bcb8-e95fade28a80",
   "metadata": {},
   "outputs": [
    {
     "data": {
      "text/html": [
       "<div>\n",
       "<style scoped>\n",
       "    .dataframe tbody tr th:only-of-type {\n",
       "        vertical-align: middle;\n",
       "    }\n",
       "\n",
       "    .dataframe tbody tr th {\n",
       "        vertical-align: top;\n",
       "    }\n",
       "\n",
       "    .dataframe thead th {\n",
       "        text-align: right;\n",
       "    }\n",
       "</style>\n",
       "<table border=\"1\" class=\"dataframe\">\n",
       "  <thead>\n",
       "    <tr style=\"text-align: right;\">\n",
       "      <th></th>\n",
       "      <th>Sex</th>\n",
       "      <th>Length</th>\n",
       "      <th>Diameter</th>\n",
       "      <th>Height</th>\n",
       "      <th>Whole_weight</th>\n",
       "      <th>Shucked_weight</th>\n",
       "      <th>Viscera_weight</th>\n",
       "      <th>Shell_weight</th>\n",
       "    </tr>\n",
       "  </thead>\n",
       "  <tbody>\n",
       "    <tr>\n",
       "      <th>0</th>\n",
       "      <td>M</td>\n",
       "      <td>0.455</td>\n",
       "      <td>0.365</td>\n",
       "      <td>0.095</td>\n",
       "      <td>0.5140</td>\n",
       "      <td>0.2245</td>\n",
       "      <td>0.1010</td>\n",
       "      <td>0.1500</td>\n",
       "    </tr>\n",
       "    <tr>\n",
       "      <th>1</th>\n",
       "      <td>M</td>\n",
       "      <td>0.350</td>\n",
       "      <td>0.265</td>\n",
       "      <td>0.090</td>\n",
       "      <td>0.2255</td>\n",
       "      <td>0.0995</td>\n",
       "      <td>0.0485</td>\n",
       "      <td>0.0700</td>\n",
       "    </tr>\n",
       "    <tr>\n",
       "      <th>2</th>\n",
       "      <td>F</td>\n",
       "      <td>0.530</td>\n",
       "      <td>0.420</td>\n",
       "      <td>0.135</td>\n",
       "      <td>0.6770</td>\n",
       "      <td>0.2565</td>\n",
       "      <td>0.1415</td>\n",
       "      <td>0.2100</td>\n",
       "    </tr>\n",
       "    <tr>\n",
       "      <th>3</th>\n",
       "      <td>M</td>\n",
       "      <td>0.440</td>\n",
       "      <td>0.365</td>\n",
       "      <td>0.125</td>\n",
       "      <td>0.5160</td>\n",
       "      <td>0.2155</td>\n",
       "      <td>0.1140</td>\n",
       "      <td>0.1550</td>\n",
       "    </tr>\n",
       "    <tr>\n",
       "      <th>4</th>\n",
       "      <td>I</td>\n",
       "      <td>0.330</td>\n",
       "      <td>0.255</td>\n",
       "      <td>0.080</td>\n",
       "      <td>0.2050</td>\n",
       "      <td>0.0895</td>\n",
       "      <td>0.0395</td>\n",
       "      <td>0.0550</td>\n",
       "    </tr>\n",
       "    <tr>\n",
       "      <th>...</th>\n",
       "      <td>...</td>\n",
       "      <td>...</td>\n",
       "      <td>...</td>\n",
       "      <td>...</td>\n",
       "      <td>...</td>\n",
       "      <td>...</td>\n",
       "      <td>...</td>\n",
       "      <td>...</td>\n",
       "    </tr>\n",
       "    <tr>\n",
       "      <th>4172</th>\n",
       "      <td>F</td>\n",
       "      <td>0.565</td>\n",
       "      <td>0.450</td>\n",
       "      <td>0.165</td>\n",
       "      <td>0.8870</td>\n",
       "      <td>0.3700</td>\n",
       "      <td>0.2390</td>\n",
       "      <td>0.2490</td>\n",
       "    </tr>\n",
       "    <tr>\n",
       "      <th>4173</th>\n",
       "      <td>M</td>\n",
       "      <td>0.590</td>\n",
       "      <td>0.440</td>\n",
       "      <td>0.135</td>\n",
       "      <td>0.9660</td>\n",
       "      <td>0.4390</td>\n",
       "      <td>0.2145</td>\n",
       "      <td>0.2605</td>\n",
       "    </tr>\n",
       "    <tr>\n",
       "      <th>4174</th>\n",
       "      <td>M</td>\n",
       "      <td>0.600</td>\n",
       "      <td>0.475</td>\n",
       "      <td>0.205</td>\n",
       "      <td>1.1760</td>\n",
       "      <td>0.5255</td>\n",
       "      <td>0.2875</td>\n",
       "      <td>0.3080</td>\n",
       "    </tr>\n",
       "    <tr>\n",
       "      <th>4175</th>\n",
       "      <td>F</td>\n",
       "      <td>0.625</td>\n",
       "      <td>0.485</td>\n",
       "      <td>0.150</td>\n",
       "      <td>1.0945</td>\n",
       "      <td>0.5310</td>\n",
       "      <td>0.2610</td>\n",
       "      <td>0.2960</td>\n",
       "    </tr>\n",
       "    <tr>\n",
       "      <th>4176</th>\n",
       "      <td>M</td>\n",
       "      <td>0.710</td>\n",
       "      <td>0.555</td>\n",
       "      <td>0.195</td>\n",
       "      <td>1.9485</td>\n",
       "      <td>0.9455</td>\n",
       "      <td>0.3765</td>\n",
       "      <td>0.4950</td>\n",
       "    </tr>\n",
       "  </tbody>\n",
       "</table>\n",
       "<p>4177 rows × 8 columns</p>\n",
       "</div>"
      ],
      "text/plain": [
       "     Sex  Length  Diameter  Height  Whole_weight  Shucked_weight  \\\n",
       "0      M   0.455     0.365   0.095        0.5140          0.2245   \n",
       "1      M   0.350     0.265   0.090        0.2255          0.0995   \n",
       "2      F   0.530     0.420   0.135        0.6770          0.2565   \n",
       "3      M   0.440     0.365   0.125        0.5160          0.2155   \n",
       "4      I   0.330     0.255   0.080        0.2050          0.0895   \n",
       "...   ..     ...       ...     ...           ...             ...   \n",
       "4172   F   0.565     0.450   0.165        0.8870          0.3700   \n",
       "4173   M   0.590     0.440   0.135        0.9660          0.4390   \n",
       "4174   M   0.600     0.475   0.205        1.1760          0.5255   \n",
       "4175   F   0.625     0.485   0.150        1.0945          0.5310   \n",
       "4176   M   0.710     0.555   0.195        1.9485          0.9455   \n",
       "\n",
       "      Viscera_weight  Shell_weight  \n",
       "0             0.1010        0.1500  \n",
       "1             0.0485        0.0700  \n",
       "2             0.1415        0.2100  \n",
       "3             0.1140        0.1550  \n",
       "4             0.0395        0.0550  \n",
       "...              ...           ...  \n",
       "4172          0.2390        0.2490  \n",
       "4173          0.2145        0.2605  \n",
       "4174          0.2875        0.3080  \n",
       "4175          0.2610        0.2960  \n",
       "4176          0.3765        0.4950  \n",
       "\n",
       "[4177 rows x 8 columns]"
      ]
     },
     "execution_count": 3,
     "metadata": {},
     "output_type": "execute_result"
    }
   ],
   "source": [
    "abalone.data.features "
   ]
  },
  {
   "cell_type": "markdown",
   "id": "f5b79852-9d68-4bd9-a26f-b74f015f0f84",
   "metadata": {},
   "source": [
    "Extract 2 of the features from the dataset:"
   ]
  },
  {
   "cell_type": "code",
   "execution_count": 4,
   "id": "b9ac270e-e476-4d66-891b-5effa7faad08",
   "metadata": {},
   "outputs": [],
   "source": [
    "data0 = abalone.data.features.Length\n",
    "data1 = abalone.data.features.Height\n",
    "\n",
    "# This can be interesting to try - we wouldn't expect a linear relationship between length and a weight\n",
    "# data1 = abalone.data.features.Whole_weight"
   ]
  },
  {
   "cell_type": "markdown",
   "id": "28c660a6-2741-4143-8b2e-8fa12ca54a4f",
   "metadata": {},
   "source": [
    "Create the $X$ data matrix and verify its shape:"
   ]
  },
  {
   "cell_type": "code",
   "execution_count": 5,
   "id": "9b82d362-a8c4-420d-8a17-164fb463ac66",
   "metadata": {},
   "outputs": [
    {
     "data": {
      "text/plain": [
       "(4177, 2)"
      ]
     },
     "execution_count": 5,
     "metadata": {},
     "output_type": "execute_result"
    }
   ],
   "source": [
    "X = np.column_stack((data0.values, data1.values))\n",
    "X.shape"
   ]
  },
  {
   "cell_type": "markdown",
   "id": "30336f12-457a-4b88-b4a4-49d3b81ade7a",
   "metadata": {},
   "source": [
    "We create a scatter plot to visualise the data."
   ]
  },
  {
   "cell_type": "code",
   "execution_count": 6,
   "id": "1c3d1cb9-ac28-47f7-a400-a21de3037ef4",
   "metadata": {},
   "outputs": [
    {
     "data": {
      "image/png": "[encoded data removed]",
      "text/plain": [
       "<Figure size 640x480 with 1 Axes>"
      ]
     },
     "metadata": {},
     "output_type": "display_data"
    }
   ],
   "source": [
    "import matplotlib.pyplot as plt\n",
    "plt.scatter(X[:,0], X[:,1])\n",
    "plt.xlabel(data0.name)\n",
    "plt.ylabel(data1.name)\n",
    "plt.show()"
   ]
  },
  {
   "cell_type": "markdown",
   "id": "f02ed7ab-591f-4d6c-b554-245c31abb634",
   "metadata": {},
   "source": [
    "To perform principal component analysis, we compute the (reduced) SVD for the matrix $X$.\n",
    "Recall that $X = U \\Sigma V^{H}$, where:\n",
    "- the diagonal matrix $\\Sigma$ holds the singular values (the square root of the  eigenvalues of $X^{T} X$);\n",
    "- the columns of $U$ are the normalised eigenvectors of $XX^{T}$; and\n",
    "- the columns of $V$ are the normalised eigenvectors of $X^{T} X$.\n",
    "\n",
    "First we centre $X$ matrix (such that mean of each column zero) and verify:"
   ]
  },
  {
   "cell_type": "code",
   "execution_count": 7,
   "id": "f44fd4e0-f93a-4e3c-8a97-6e38f68b4b84",
   "metadata": {},
   "outputs": [
    {
     "name": "stdout",
     "output_type": "stream",
     "text": [
      "Test column means: [ 1.65476921e-16 -5.53848989e-18]\n"
     ]
    }
   ],
   "source": [
    "C = np.identity(X.shape[0]) - np.ones((X.shape[0], X.shape[0]))/ X.shape[0]\n",
    "Xc = C @ X\n",
    "print(\"Test column means:\", np.mean(Xc, 0))"
   ]
  },
  {
   "cell_type": "markdown",
   "id": "a44acfc5-5e35-4666-be07-cd0bc60e6529",
   "metadata": {},
   "source": [
    "Compute the singular value decomposition of the centred data matrix:"
   ]
  },
  {
   "cell_type": "code",
   "execution_count": 8,
   "id": "58916680-fbec-4279-912f-6bd8bb079ea5",
   "metadata": {},
   "outputs": [],
   "source": [
    "U, S, Vh = np.linalg.svd(Xc)"
   ]
  },
  {
   "cell_type": "markdown",
   "id": "75f36b40-30b4-4a1a-8b13-df9c238d98b4",
   "metadata": {},
   "source": [
    "Checking the singular values:"
   ]
  },
  {
   "cell_type": "code",
   "execution_count": 9,
   "id": "f8afe85b-0dc5-4149-b602-a41cdfba70b5",
   "metadata": {},
   "outputs": [
    {
     "name": "stdout",
     "output_type": "stream",
     "text": [
      "Singular values: [8.08786269 1.45600719]\n"
     ]
    }
   ],
   "source": [
    "print(\"Singular values:\", S)"
   ]
  },
  {
   "cell_type": "markdown",
   "id": "982cf5d2-8607-4205-8308-2f8c5985f57a",
   "metadata": {},
   "source": [
    "As we could expect from the scatter plot the first singular value is several times larger than the second.\n",
    "\n",
    "We now add the eigenvectors of $X^{T} X$ to the scatter plot, recalling that the eigenvectors of $X^{T} X$ \n",
    "are the rows of $V^{T}$ (`Vh`)."
   ]
  },
  {
   "cell_type": "code",
   "execution_count": 10,
   "id": "773c8c45-38da-49a4-b587-a44527c12473",
   "metadata": {},
   "outputs": [
    {
     "data": {
      "image/png": "[encoded data removed]",
      "text/plain": [
       "<Figure size 640x480 with 1 Axes>"
      ]
     },
     "metadata": {},
     "output_type": "display_data"
    }
   ],
   "source": [
    "v0 = Vh[0,:]\n",
    "v1 = (S[1])/(S[0]) * Vh[1,:]\n",
    "\n",
    "fig, ax = plt.subplots()\n",
    "plt.scatter(X[:,0], X[:,1])\n",
    "ax.set_xlabel(data0.name)\n",
    "ax.set_ylabel(data1.name)\n",
    "ax.arrow(0, 0, v0[0], v0[1], head_width=0.05)\n",
    "ax.arrow(0.5, 0.1,  v1[0], v1[1], head_width=0.05)\n",
    "ax.set_aspect(\"equal\", adjustable=\"datalim\")\n",
    "plt.show()"
   ]
  },
  {
   "cell_type": "markdown",
   "id": "3de8c532-40d1-4dbe-a3a3-debc076260ef",
   "metadata": {},
   "source": [
    "Next we rotate that data such that the new coordinate system aligns with the eigenvector in $V$, and produce a scatter plot using the new coordinates:"
   ]
  },
  {
   "cell_type": "code",
   "execution_count": 11,
   "id": "0bfc3c8c-4916-48e1-8859-9d497d7e2665",
   "metadata": {},
   "outputs": [
    {
     "data": {
      "image/png": "[encoded data removed]",
      "text/plain": [
       "<Figure size 640x480 with 1 Axes>"
      ]
     },
     "metadata": {},
     "output_type": "display_data"
    }
   ],
   "source": [
    "Xnew = X @ Vh\n",
    "plt.scatter(Xnew[:,0], Xnew[:, 1])\n",
    "plt.show()"
   ]
  },
  {
   "cell_type": "markdown",
   "id": "944a8a24-2a3a-4708-9cc1-10c15265dd3d",
   "metadata": {},
   "source": [
    "In the original data, there appears to be to outliers with height greater than 0.4. Removing these from the data:"
   ]
  },
  {
   "cell_type": "code",
   "execution_count": 12,
   "id": "1e11863d-8eec-41dd-85be-48dfff8c5b52",
   "metadata": {},
   "outputs": [
    {
     "name": "stdout",
     "output_type": "stream",
     "text": [
      "Filtered shape: (4175, 2)\n",
      "Singular values: [8.08013978 1.04153812]\n"
     ]
    }
   ],
   "source": [
    "Xf = X[X[:,1]<0.4,:]\n",
    "print(\"Filtered shape:\", Xf.shape)\n",
    "\n",
    "C = np.identity(Xf.shape[0]) - np.ones((Xf.shape[0], Xf.shape[0]))/ Xf.shape[0]\n",
    "Xc = C @ Xf\n",
    "U, S, Vh = np.linalg.svd(Xc)\n",
    "print(\"Singular values:\", S)"
   ]
  },
  {
   "cell_type": "markdown",
   "id": "ffc19554-592d-47b9-bced-a9f8f20bf819",
   "metadata": {},
   "source": [
    "We see a reduction in the second singular value.\n",
    "\n",
    "Checking visually that we excluded the two outliers:"
   ]
  },
  {
   "cell_type": "code",
   "execution_count": 13,
   "id": "73d00fca-0042-4ebd-addd-370bc5a90db0",
   "metadata": {},
   "outputs": [
    {
     "data": {
      "image/png": "[encoded data removed]",
      "text/plain": [
       "<Figure size 640x480 with 1 Axes>"
      ]
     },
     "metadata": {},
     "output_type": "display_data"
    }
   ],
   "source": [
    "v0 = Vh[0,:]\n",
    "v1 = (S[1])/(S[0]) * Vh[1,:]\n",
    "\n",
    "fig, ax = plt.subplots()\n",
    "plt.scatter(Xf[:,0], Xf[:,1])\n",
    "ax.set_xlabel(data0.name)\n",
    "ax.set_ylabel(data1.name)\n",
    "ax.arrow(0, 0, v0[0], v0[1], head_width=0.05)\n",
    "ax.arrow(0.5, 0.1,  v1[0], v1[1], head_width=0.05)\n",
    "ax.set_aspect(\"equal\", adjustable=\"datalim\")\n",
    "plt.show()"
   ]
  }
 ],
 "metadata": {
  "kernelspec": {
   "display_name": "Python 3 (ipykernel)",
   "language": "python",
   "name": "python3"
  },
  "language_info": {
   "codemirror_mode": {
    "name": "ipython",
    "version": 3
   },
   "file_extension": ".py",
   "mimetype": "text/x-python",
   "name": "python",
   "nbconvert_exporter": "python",
   "pygments_lexer": "ipython3",
   "version": "3.12.8"
  }
 },
 "nbformat": 4,
 "nbformat_minor": 5
}
